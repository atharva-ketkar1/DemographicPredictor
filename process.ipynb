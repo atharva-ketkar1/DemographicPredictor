{
 "cells": [
  {
   "cell_type": "code",
   "execution_count": 3,
   "metadata": {},
   "outputs": [],
   "source": [
    "import os\n",
    "import cv2\n",
    "import numpy as np\n",
    "import pandas as pd\n",
    "import tensorflow as tf\n",
    "from tensorflow.keras.utils import load_img\n",
    "from keras.models import Sequential, Model\n",
    "from keras.layers import Dense, Conv2D, Dropout, Flatten, MaxPooling2D, Input"
   ]
  },
  {
   "cell_type": "code",
   "execution_count": 4,
   "metadata": {},
   "outputs": [],
   "source": [
    "dataset_path = 'archive/UTKFace'\n",
    "\n",
    "def load_images_labels(dataset_path):\n",
    "    images = []\n",
    "    age_labels = []\n",
    "    gender_labels = []\n",
    "    ethnicity_labels = []\n",
    "    for file_name in os.listdir(dataset_path):\n",
    "        parts = file_name.split('_')\n",
    "        if len(parts) < 4:\n",
    "            print(f'Skipping file: {file_name}')\n",
    "            continue\n",
    "        age = int(parts[0])\n",
    "        gender = int(parts[1])\n",
    "        ethnicity = int(parts[2])\n",
    "        img_path = os.path.join(dataset_path, file_name)\n",
    "        img = cv2.imread(img_path)\n",
    "        if img is not None:\n",
    "            images.append(img)\n",
    "            age_labels.append(age)\n",
    "            gender_labels.append(gender)\n",
    "            ethnicity_labels.append(ethnicity)\n",
    "        else:\n",
    "            print(f'Unable to read image: {file_name}')\n",
    "    return np.array(images), np.array(age_labels), np.array(gender_labels), np.array(ethnicity_labels)\n"
   ]
  },
  {
   "cell_type": "code",
   "execution_count": 5,
   "metadata": {},
   "outputs": [
    {
     "name": "stdout",
     "output_type": "stream",
     "text": [
      "Skipping file: 39_1_20170116174525125.jpg.chip.jpg\n",
      "Skipping file: 61_1_20170109150557335.jpg.chip.jpg\n",
      "Skipping file: 61_1_20170109142408075.jpg.chip.jpg\n",
      "Number of age_labels: 23705, Number of gender_labels: 23705, Number of ethnicity_labels: 23705\n"
     ]
    }
   ],
   "source": [
    "images, age_labels, gender_labels, ethnicity_labels = load_images_labels(dataset_path)\n",
    "print(f'Number of age_labels: {len(age_labels)}, Number of gender_labels: {len(gender_labels)}, Number of ethnicity_labels: {len(ethnicity_labels)}')"
   ]
  }
 ],
 "metadata": {
  "language_info": {
   "name": "python"
  }
 },
 "nbformat": 4,
 "nbformat_minor": 2
}
