{
  "nbformat": 4,
  "nbformat_minor": 0,
  "metadata": {
    "colab": {
      "provenance": [],
      "gpuType": "T4",
      "authorship_tag": "ABX9TyOUSOc15Sc5qK73lKwIMjNs",
      "include_colab_link": true
    },
    "kernelspec": {
      "name": "python3",
      "display_name": "Python 3"
    },
    "language_info": {
      "name": "python"
    },
    "accelerator": "GPU"
  },
  "cells": [
    {
      "cell_type": "markdown",
      "metadata": {
        "id": "view-in-github",
        "colab_type": "text"
      },
      "source": [
        "<a href=\"https://colab.research.google.com/github/atharva-ketkar1/DemographicPredictor/blob/main/retry.ipynb\" target=\"_parent\"><img src=\"https://colab.research.google.com/assets/colab-badge.svg\" alt=\"Open In Colab\"/></a>"
      ]
    },
    {
      "cell_type": "code",
      "execution_count": 1,
      "metadata": {
        "colab": {
          "base_uri": "https://localhost:8080/"
        },
        "id": "JpZdNU4B-kFe",
        "outputId": "63d0f023-bd54-412f-af49-501977f12c56"
      },
      "outputs": [
        {
          "output_type": "stream",
          "name": "stdout",
          "text": [
            "Mounted at /content/drive\n"
          ]
        }
      ],
      "source": [
        "import os\n",
        "import cv2\n",
        "import numpy as np\n",
        "import pandas as pd\n",
        "import random\n",
        "import seaborn as sns\n",
        "import matplotlib.pyplot as plt\n",
        "from PIL import Image\n",
        "import keras.backend as K\n",
        "from tqdm import tqdm\n",
        "from itertools import product\n",
        "from functools import partial\n",
        "from imblearn.combine import SMOTEENN\n",
        "from imblearn.over_sampling import SMOTE\n",
        "from sklearn.utils import resample\n",
        "from sklearn.model_selection import train_test_split\n",
        "from sklearn.utils.class_weight import compute_class_weight\n",
        "from sklearn.preprocessing import LabelEncoder,OneHotEncoder\n",
        "import tensorflow as tf\n",
        "from tensorflow.keras.applications import VGG16\n",
        "from tensorflow.keras.losses import Loss\n",
        "from tensorflow.keras.models import Sequential, Model, load_model\n",
        "from tensorflow.keras.layers import Conv2D, MaxPooling2D, Flatten, Dense, Dropout, Input, BatchNormalization\n",
        "from tensorflow.keras.optimizers import Adam\n",
        "from keras.losses import mean_absolute_error, binary_crossentropy, sparse_categorical_crossentropy\n",
        "from tensorflow.keras.utils import to_categorical, load_img, img_to_array\n",
        "from tensorflow.keras.callbacks import EarlyStopping, ReduceLROnPlateau, ModelCheckpoint\n",
        "from tensorflow.keras.preprocessing.image import ImageDataGenerator\n",
        "from keras.preprocessing import image\n",
        "from google.colab import drive\n",
        "drive.mount('/content/drive')"
      ]
    },
    {
      "cell_type": "code",
      "source": [
        "!unzip -q '/content/drive/MyDrive/Demographic Predictor Files/UTKFace.zip';"
      ],
      "metadata": {
        "id": "bapxywgT-qKF"
      },
      "execution_count": 2,
      "outputs": []
    },
    {
      "cell_type": "code",
      "source": [
        "#path = '/content/drive/MyDrive/Demographic Predictor Files/UTKFace'\n",
        "path = 'UTKFace'\n",
        "age_labels = []\n",
        "gender_labels = []\n",
        "race_labels = []\n",
        "image_paths = []\n",
        "\n",
        "images = os.listdir(path)\n",
        "#random.shuffle(images)\n",
        "\n",
        "for image in images:\n",
        "  split = image.split(\"_\")\n",
        "  if len(split) < 4:\n",
        "    continue\n",
        "  image_path = os.path.join(path,image)\n",
        "  age_label = int(split[0])\n",
        "  gender_label = int(split[1])\n",
        "  race_label = int(split[2])\n",
        "\n",
        "  image_paths.append(image_path)\n",
        "  age_labels.append(age_label)\n",
        "  gender_labels.append(gender_label)\n",
        "  race_labels.append(race_label)"
      ],
      "metadata": {
        "id": "rhq15JJA-qMp"
      },
      "execution_count": 3,
      "outputs": []
    },
    {
      "cell_type": "code",
      "source": [
        "df = pd.DataFrame()\n",
        "df['image_paths'], df['age'], df['gender'], df['race'] = image_paths, age_labels, gender_labels, race_labels"
      ],
      "metadata": {
        "id": "XYkwODC--qOu"
      },
      "execution_count": 4,
      "outputs": []
    },
    {
      "cell_type": "markdown",
      "source": [
        "# Data Preprocessing"
      ],
      "metadata": {
        "id": "Tvidewua-zUT"
      }
    },
    {
      "cell_type": "code",
      "source": [
        "sns.displot(df['age'])"
      ],
      "metadata": {
        "colab": {
          "base_uri": "https://localhost:8080/",
          "height": 524
        },
        "id": "no_1sm1K-qTL",
        "outputId": "ad7ff468-10b2-49a8-d474-c1aee19298d9"
      },
      "execution_count": 5,
      "outputs": [
        {
          "output_type": "execute_result",
          "data": {
            "text/plain": [
              "<seaborn.axisgrid.FacetGrid at 0x7d0d1650ae90>"
            ]
          },
          "metadata": {},
          "execution_count": 5
        },
        {
          "output_type": "display_data",
          "data": {
            "text/plain": [
              "<Figure size 500x500 with 1 Axes>"
            ],
            "image/png": "[encoded data removed]"
          },
          "metadata": {}
        }
      ]
    },
    {
      "cell_type": "code",
      "source": [
        "df['age'].value_counts()"
      ],
      "metadata": {
        "colab": {
          "base_uri": "https://localhost:8080/"
        },
        "id": "LCwJImQU_Ocu",
        "outputId": "ce5c7c4c-dea2-4492-cb2d-31dd83576c89"
      },
      "execution_count": 6,
      "outputs": [
        {
          "output_type": "execute_result",
          "data": {
            "text/plain": [
              "age\n",
              "26     2197\n",
              "1      1123\n",
              "28      918\n",
              "35      880\n",
              "24      859\n",
              "       ... \n",
              "115       3\n",
              "91        2\n",
              "101       2\n",
              "103       1\n",
              "111       1\n",
              "Name: count, Length: 104, dtype: int64"
            ]
          },
          "metadata": {},
          "execution_count": 6
        }
      ]
    },
    {
      "cell_type": "code",
      "source": [
        "#[gender] is either 0 (male) or 1 (female)\n",
        "sns.displot(df['gender'])"
      ],
      "metadata": {
        "colab": {
          "base_uri": "https://localhost:8080/",
          "height": 524
        },
        "id": "sbp7LQvj-qZr",
        "outputId": "cbba77bf-286c-4385-97a0-cf45f5c2266b"
      },
      "execution_count": 7,
      "outputs": [
        {
          "output_type": "execute_result",
          "data": {
            "text/plain": [
              "<seaborn.axisgrid.FacetGrid at 0x7d0d133ef820>"
            ]
          },
          "metadata": {},
          "execution_count": 7
        },
        {
          "output_type": "display_data",
          "data": {
            "text/plain": [
              "<Figure size 500x500 with 1 Axes>"
            ],
            "image/png": "[encoded data removed]"
          },
          "metadata": {}
        }
      ]
    },
    {
      "cell_type": "code",
      "source": [
        "df['gender'].value_counts()"
      ],
      "metadata": {
        "colab": {
          "base_uri": "https://localhost:8080/"
        },
        "id": "GYdOgfu9APMf",
        "outputId": "3feb275e-1c64-498f-80e5-9f4bbbd9caf1"
      },
      "execution_count": 8,
      "outputs": [
        {
          "output_type": "execute_result",
          "data": {
            "text/plain": [
              "gender\n",
              "0    12391\n",
              "1    11314\n",
              "Name: count, dtype: int64"
            ]
          },
          "metadata": {},
          "execution_count": 8
        }
      ]
    },
    {
      "cell_type": "code",
      "source": [
        "#[race] is an integer from 0 to 4, denoting White, Black, Asian, Indian, and Others (like Hispanic, Latino, Middle Eastern).\n",
        "sns.displot(df['race'])"
      ],
      "metadata": {
        "colab": {
          "base_uri": "https://localhost:8080/",
          "height": 524
        },
        "id": "qjoi1w6o-qcA",
        "outputId": "361a9f9b-a533-461c-81d6-fc611f2b0f64"
      },
      "execution_count": 9,
      "outputs": [
        {
          "output_type": "execute_result",
          "data": {
            "text/plain": [
              "<seaborn.axisgrid.FacetGrid at 0x7d0d13287e50>"
            ]
          },
          "metadata": {},
          "execution_count": 9
        },
        {
          "output_type": "display_data",
          "data": {
            "text/plain": [
              "<Figure size 500x500 with 1 Axes>"
            ],
            "image/png": "[encoded data removed]"
          },
          "metadata": {}
        }
      ]
    },
    {
      "cell_type": "code",
      "source": [
        "df['race'].value_counts()"
      ],
      "metadata": {
        "colab": {
          "base_uri": "https://localhost:8080/"
        },
        "id": "13Slgb_LAQQc",
        "outputId": "92746787-f545-4b45-f657-ffcba00aa09f"
      },
      "execution_count": 10,
      "outputs": [
        {
          "output_type": "execute_result",
          "data": {
            "text/plain": [
              "race\n",
              "0    10078\n",
              "1     4526\n",
              "3     3975\n",
              "2     3434\n",
              "4     1692\n",
              "Name: count, dtype: int64"
            ]
          },
          "metadata": {},
          "execution_count": 10
        }
      ]
    },
    {
      "cell_type": "markdown",
      "source": [
        "##### Age is pretty right skewed, gender has more women than men, and race is very imbalanced. Will have to take this into account when I am going to train"
      ],
      "metadata": {
        "id": "iH9ueHnj-7tk"
      }
    },
    {
      "cell_type": "markdown",
      "source": [
        "# Feature Extraction"
      ],
      "metadata": {
        "id": "bFgf6dJc_D_9"
      }
    },
    {
      "cell_type": "code",
      "source": [
        "image_size = (200,200)\n",
        "vgg16 = VGG16(weights='imagenet', include_top=False, input_shape=(200,200, 3))\n",
        "\n",
        "def extract_features(img_path, model, target_size=image_size):\n",
        "    img = load_img(img_path, target_size=target_size)\n",
        "    img_array = img_to_array(img)\n",
        "    img_array = np.expand_dims(img_array, axis=0)\n",
        "    img_array = tf.keras.applications.vgg16.preprocess_input(img_array)\n",
        "    features = model.predict(img_array)\n",
        "    return features.flatten()\n",
        "\n",
        "# Takes very long to run and uses up too many Colab credits, so I am going to run it locally and upload it to my Drive\n",
        "\n",
        "# features = []\n",
        "# for img_path in tqdm(df['image_paths']):\n",
        "#     features.append(extract_features(img_path, vgg16))\n",
        "# features = np.array(features)"
      ],
      "metadata": {
        "colab": {
          "base_uri": "https://localhost:8080/"
        },
        "id": "O4-k11NFKn30",
        "outputId": "126febd7-cff5-4b81-e420-e10b5061393c"
      },
      "execution_count": 11,
      "outputs": [
        {
          "output_type": "stream",
          "name": "stdout",
          "text": [
            "Downloading data from https://storage.googleapis.com/tensorflow/keras-applications/vgg16/vgg16_weights_tf_dim_ordering_tf_kernels_notop.h5\n",
            "58889256/58889256 [==============================] - 0s 0us/step\n"
          ]
        }
      ]
    },
    {
      "cell_type": "code",
      "source": [
        "features = np.load('/content/drive/MyDrive/Demographic Predictor Files/models/features.npy')\n",
        "\n",
        "smote = SMOTE()\n",
        "\n",
        "# Have to filter out the classes in age that don't have enough samples because SMOTE doesn't like that\n",
        "filtered_df = df.groupby('age').filter(lambda x: len(x) >= 6)\n",
        "\n",
        "filtered_features = features[filtered_df.index]\n",
        "filtered_age_labels = filtered_df['age']\n",
        "\n",
        "features_resampled_age, age_resampled = smote.fit_resample(filtered_features, filtered_age_labels)\n",
        "\n",
        "features_resampled_gender, gender_resampled = smote.fit_resample(features, df['gender'])\n",
        "\n",
        "features_resampled_race, race_resampled = smote.fit_resample(features, df['race'])\n"
      ],
      "metadata": {
        "id": "pm4cRrGjP6te"
      },
      "execution_count": null,
      "outputs": []
    },
    {
      "cell_type": "code",
      "source": [
        "# Convert these to np arrays for training\n",
        "y_age_resampled = np.array(age_resampled)\n",
        "y_gender_resampled = np.array(gender_resampled)\n",
        "y_race_resampled = tf.keras.utils.to_categorical(np.array(race_resampled), num_classes=5)"
      ],
      "metadata": {
        "id": "FQHmG9xTSXjG"
      },
      "execution_count": null,
      "outputs": []
    },
    {
      "cell_type": "markdown",
      "source": [
        "# Visualizing SMOTE Resampled Data"
      ],
      "metadata": {
        "id": "j13W1g8VRN65"
      }
    },
    {
      "cell_type": "code",
      "source": [
        "age_resampled.value_counts()"
      ],
      "metadata": {
        "id": "YjboN1FHRNKq"
      },
      "execution_count": null,
      "outputs": []
    },
    {
      "cell_type": "code",
      "source": [
        "sns.displot(age_resampled)"
      ],
      "metadata": {
        "id": "x2kOqX1tRaYi"
      },
      "execution_count": null,
      "outputs": []
    },
    {
      "cell_type": "code",
      "source": [
        "gender_resampled.value_counts()"
      ],
      "metadata": {
        "id": "NrA5Y7jWRNQV"
      },
      "execution_count": null,
      "outputs": []
    },
    {
      "cell_type": "code",
      "source": [
        "sns.displot(gender_resampled)"
      ],
      "metadata": {
        "id": "yMgvIpWHRkEy"
      },
      "execution_count": null,
      "outputs": []
    },
    {
      "cell_type": "code",
      "source": [
        "race_resampled.value_counts()"
      ],
      "metadata": {
        "id": "gLnKNRbNRNSs"
      },
      "execution_count": null,
      "outputs": []
    },
    {
      "cell_type": "code",
      "source": [
        "sns.displot(race_resampled)"
      ],
      "metadata": {
        "id": "Nm1rKAnlRNUw"
      },
      "execution_count": null,
      "outputs": []
    },
    {
      "cell_type": "markdown",
      "source": [
        "##### There is now an equal number of samples in every class for age,gender,and race."
      ],
      "metadata": {
        "id": "U1i_zL6UR3DX"
      }
    },
    {
      "cell_type": "markdown",
      "source": [
        "# Training and Fitting the Model"
      ],
      "metadata": {
        "id": "aGI5FD87RwV9"
      }
    },
    {
      "cell_type": "code",
      "source": [
        "input_shape = Input(shape=(200, 200, 3))\n",
        "conv_1 = Conv2D(32, kernel_size=(3, 3), activation='relu')(input_shape)\n",
        "max_1 = MaxPooling2D(pool_size=(2, 2))(conv_1)\n",
        "conv_2 = Conv2D(64, kernel_size=(3, 3), activation='relu')(max_1)\n",
        "max_2 = MaxPooling2D(pool_size=(2, 2))(conv_2)\n",
        "conv_3 = Conv2D(128, kernel_size=(3, 3), activation='relu')(max_2)\n",
        "max_3 = MaxPooling2D(pool_size=(2, 2))(conv_3)\n",
        "conv_4 = Conv2D(256, kernel_size=(3, 3), activation='relu')(max_3)\n",
        "max_4 = MaxPooling2D(pool_size=(2, 2))(conv_4)\n",
        "\n",
        "flatten = Flatten()(max_4)\n",
        "\n",
        "# Fully connected layers for age prediction\n",
        "dense_age = Dense(256, activation='relu')(flatten)\n",
        "dropout_age = Dropout(0.3)(dense_age)\n",
        "output_age = Dense(1, activation='linear', name='age_output')(dropout_age)\n",
        "\n",
        "# Fully connected layers for gender prediction\n",
        "dense_gender = Dense(256, activation='relu')(flatten)\n",
        "dropout_gender = Dropout(0.3)(dense_gender)\n",
        "output_gender = Dense(1, activation='sigmoid', name='gender_output')(dropout_gender)\n",
        "\n",
        "# Fully connected layers for race prediction\n",
        "dense_race = Dense(256, activation='relu')(flatten)\n",
        "dropout_race = Dropout(0.3)(dense_race)\n",
        "output_race = Dense(5, activation='softmax', name='race_output')(dropout_race)\n",
        "\n",
        "model = Model(inputs=input_shape, outputs=[output_age, output_gender, output_race])\n",
        "\n",
        "model.compile(optimizer='adam',\n",
        "              loss={'age_output': 'mae',\n",
        "                    'gender_output': 'binary_crossentropy',\n",
        "                    'race_output': 'categorical_crossentropy'},\n",
        "              metrics={'age_output': 'mae',\n",
        "                       'gender_output': 'accuracy',\n",
        "                       'race_output': 'accuracy'})"
      ],
      "metadata": {
        "id": "Ukul_eRdRm38"
      },
      "execution_count": null,
      "outputs": []
    },
    {
      "cell_type": "code",
      "source": [
        "history = model.fit(x=X,\n",
        "                    y={'age_output': y_age_resampled,\n",
        "                       'gender_output': y_gender_resampled,\n",
        "                       'race_output': y_race_resampled},\n",
        "                    validation_split = 0.2,\n",
        "                    batch_size=32, epochs=50)"
      ],
      "metadata": {
        "id": "zwDUJ7AzSUEH"
      },
      "execution_count": null,
      "outputs": []
    },
    {
      "cell_type": "code",
      "source": [
        "model_save_path = '/content/drive/MyDrive/Demographic Predictor Files/models/retrymodel.keras'\n",
        "model_save_path2 = '/content/drive/MyDrive/Demographic Predictor Files/models/retrymodel.h5'\n",
        "\n",
        "# Save the model\n",
        "model.save(model_save_path)\n",
        "model.save(model_save_path2)"
      ],
      "metadata": {
        "id": "EGhIi5zoU1h2"
      },
      "execution_count": null,
      "outputs": []
    },
    {
      "cell_type": "markdown",
      "source": [
        "# Testing the Model on Sample Images"
      ],
      "metadata": {
        "id": "PSRXSSWaToVU"
      }
    },
    {
      "cell_type": "code",
      "source": [
        "genders = {\n",
        "    1: 'Female',\n",
        "    0: 'Male'\n",
        "}\n",
        "\n",
        "race_labels = ['White', 'Black', 'Asian', 'Indian', 'Hispanic, Latino, Middle Eastern, etc']\n",
        "\n",
        "def load_and_predict_demographics(image_path, model):\n",
        "    img = load_img(image_path)\n",
        "    img = img.resize((200, 200), Image.LANCZOS)\n",
        "    img = np.array(img)\n",
        "    img = img.reshape(1, 200, 200, 3)\n",
        "    img = img / 255.0\n",
        "\n",
        "    pred = model.predict(img)\n",
        "\n",
        "    predicted_age = round(pred[0][0][0])\n",
        "    predicted_gender = genders[round(pred[1][0][0])]\n",
        "    predicted_race = np.argmax(pred[2][0][0])\n",
        "    predicted_race_label = race_labels[predicted_race]\n",
        "\n",
        "    return predicted_age, predicted_gender, predicted_race_label\n",
        "\n",
        "def predict_and_display_demographics(image_path, model):\n",
        "    predicted_age, predicted_gender, predicted_race_label = load_and_predict_demographics(image_path, model)\n",
        "\n",
        "    plt.title(f'Predicted Age: {predicted_age}, Predicted Gender: {predicted_gender}, Predicted Race: {predicted_race_label}')\n",
        "    plt.axis('off')\n",
        "    plt.imshow(np.array(load_img(image_path)))\n",
        "    plt.show()\n"
      ],
      "metadata": {
        "id": "TRsko_5IgLQO"
      },
      "execution_count": null,
      "outputs": []
    },
    {
      "cell_type": "code",
      "source": [
        "img_to_test = '/content/drive/MyDrive/Demographic Predictor Files/test_images/1.png'\n",
        "\n",
        "predict_and_display_demographics(img_to_test, model)"
      ],
      "metadata": {
        "id": "-WbMO3gPTsj4"
      },
      "execution_count": null,
      "outputs": []
    },
    {
      "cell_type": "code",
      "source": [
        "img_to_test = '/content/drive/MyDrive/Demographic Predictor Files/test_images/2.png'\n",
        "\n",
        "predict_and_display_demographics(img_to_test, model)"
      ],
      "metadata": {
        "id": "fBKsWqLTTsmN"
      },
      "execution_count": null,
      "outputs": []
    },
    {
      "cell_type": "code",
      "source": [
        "img_to_test = '/content/drive/MyDrive/Demographic Predictor Files/test_images/4.png'\n",
        "\n",
        "predict_and_display_demographics(img_to_test, model)"
      ],
      "metadata": {
        "id": "PX5yZr4ATsoW"
      },
      "execution_count": null,
      "outputs": []
    },
    {
      "cell_type": "code",
      "source": [
        "img_to_test = '/content/drive/MyDrive/Demographic Predictor Files/test_images/trump.png'\n",
        "\n",
        "predict_and_display_demographics(img_to_test, model)"
      ],
      "metadata": {
        "id": "t3e-VbrYTs_e"
      },
      "execution_count": null,
      "outputs": []
    },
    {
      "cell_type": "code",
      "source": [
        "img_to_test = '/content/drive/MyDrive/Demographic Predictor Files/test_images/jayz.jpeg'\n",
        "\n",
        "predict_and_display_demographics(img_to_test, model)"
      ],
      "metadata": {
        "id": "seU6ktLXTtBz"
      },
      "execution_count": null,
      "outputs": []
    },
    {
      "cell_type": "code",
      "source": [
        "img_to_test = '/content/drive/MyDrive/Demographic Predictor Files/test_images/kodak.jpeg'\n",
        "\n",
        "predict_and_display_demographics(img_to_test, model)"
      ],
      "metadata": {
        "id": "U0MGxApFT0yB"
      },
      "execution_count": null,
      "outputs": []
    },
    {
      "cell_type": "code",
      "source": [
        "img_to_test = '/content/drive/MyDrive/Demographic Predictor Files/test_images/meeks.png'\n",
        "\n",
        "predict_and_display_demographics(img_to_test, model)"
      ],
      "metadata": {
        "id": "DYA6s47xT00Q"
      },
      "execution_count": null,
      "outputs": []
    },
    {
      "cell_type": "code",
      "source": [
        "img_to_test = '/content/drive/MyDrive/Demographic Predictor Files/test_images/7_1_1_20170109194708063.jpg.chip.jpg'\n",
        "\n",
        "predict_and_display_demographics(img_to_test, model)"
      ],
      "metadata": {
        "id": "td3TP5bdT3cv"
      },
      "execution_count": null,
      "outputs": []
    }
  ]
}