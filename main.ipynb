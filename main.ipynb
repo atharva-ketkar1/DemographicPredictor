{
  "cells": [
    {
      "cell_type": "markdown",
      "metadata": {
        "id": "view-in-github",
        "colab_type": "text"
      },
      "source": [
        "<a href=\"https://colab.research.google.com/github/atharva-ketkar1/DemographicPredictor/blob/main/main.ipynb\" target=\"_parent\"><img src=\"https://colab.research.google.com/assets/colab-badge.svg\" alt=\"Open In Colab\"/></a>"
      ]
    },
    {
      "cell_type": "code",
      "execution_count": 15,
      "metadata": {
        "colab": {
          "base_uri": "https://localhost:8080/"
        },
        "id": "xSuFAXM9MNuA",
        "outputId": "2fad732c-71c5-4a34-c515-5694d2f9dd16"
      },
      "outputs": [
        {
          "output_type": "stream",
          "name": "stdout",
          "text": [
            "Drive already mounted at /content/drive; to attempt to forcibly remount, call drive.mount(\"/content/drive\", force_remount=True).\n"
          ]
        }
      ],
      "source": [
        "import os\n",
        "import cv2\n",
        "import numpy as np\n",
        "import pandas as pd\n",
        "from sklearn.model_selection import train_test_split\n",
        "from tensorflow.keras.models import Sequential, Model\n",
        "from tensorflow.keras.layers import Conv2D, MaxPooling2D, Flatten, Dense, Dropout, Input\n",
        "from tensorflow.keras.utils import to_categorical\n",
        "from google.colab import drive\n",
        "drive.mount('/content/drive')\n"
      ]
    },
    {
      "cell_type": "code",
      "source": [
        "#!unzip '/content/drive/MyDrive/Demographic Predictor Files/UTKFace.zip';"
      ],
      "metadata": {
        "id": "_HqPMSsDMctv"
      },
      "execution_count": 24,
      "outputs": []
    },
    {
      "cell_type": "code",
      "execution_count": 17,
      "metadata": {
        "id": "952O6ONPMNuB"
      },
      "outputs": [],
      "source": [
        "def data_generator(file_names, dataset_path, batch_size):\n",
        "    while True:\n",
        "        batch_images = []\n",
        "        batch_age_labels = []\n",
        "        batch_gender_labels = []\n",
        "        batch_race_labels = []\n",
        "        for file_name in file_names:\n",
        "            parts = file_name.split('_')\n",
        "            if len(parts) < 4:\n",
        "                continue\n",
        "            age = int(parts[0])\n",
        "            gender = int(parts[1])\n",
        "            race = int(parts[2])\n",
        "            img_path = os.path.join(dataset_path, file_name)\n",
        "            img = cv2.imread(img_path)\n",
        "            if img is not None:\n",
        "                img = cv2.resize(img, (128, 128)) / 255.0\n",
        "                batch_images.append(img)\n",
        "                batch_age_labels.append(age)\n",
        "                batch_gender_labels.append(gender)\n",
        "                batch_race_labels.append(race)\n",
        "            if len(batch_images) == batch_size:\n",
        "                yield np.array(batch_images), {\n",
        "                    'age_output': np.array(batch_age_labels),\n",
        "                    'gender_output': np.array(batch_gender_labels),\n",
        "                    'race_output': to_categorical(batch_race_labels, num_classes=5)\n",
        "                }\n",
        "                batch_images = []\n",
        "                batch_age_labels = []\n",
        "                batch_gender_labels = []\n",
        "                batch_race_labels = []"
      ]
    },
    {
      "cell_type": "code",
      "execution_count": 18,
      "metadata": {
        "id": "wMp2FjUbMNuB"
      },
      "outputs": [],
      "source": [
        "dataset_path = 'UTKFace'\n",
        "file_names = os.listdir(dataset_path)\n",
        "\n",
        "# Split the file names into training and testing sets\n",
        "train_files, test_files = train_test_split(file_names, test_size=0.2, random_state=42)\n",
        "\n",
        "# Set the batch size\n",
        "batch_size = 32\n",
        "\n",
        "# Create data generators for training and testing\n",
        "train_generator = data_generator(train_files, dataset_path, batch_size)\n",
        "test_generator = data_generator(test_files, dataset_path, batch_size)"
      ]
    },
    {
      "cell_type": "code",
      "execution_count": 19,
      "metadata": {
        "colab": {
          "base_uri": "https://localhost:8080/"
        },
        "id": "w8tNNWMcMNuC",
        "outputId": "fbbffbda-d2c4-4a1c-a298-921551220a13"
      },
      "outputs": [
        {
          "output_type": "stream",
          "name": "stdout",
          "text": [
            "Epoch 1/50\n",
            "592/592 [==============================] - 48s 63ms/step - loss: 388.1728 - age_output_loss: 385.9925 - gender_output_loss: 0.6944 - race_output_loss: 1.4861 - age_output_mae: 15.0111 - gender_output_accuracy: 0.5401 - race_output_accuracy: 0.4221 - val_loss: 233.5437 - val_age_output_loss: 231.5420 - val_gender_output_loss: 0.6156 - val_race_output_loss: 1.3861 - val_age_output_mae: 12.0177 - val_gender_output_accuracy: 0.7054 - val_race_output_accuracy: 0.4259\n",
            "Epoch 2/50\n",
            "592/592 [==============================] - 35s 59ms/step - loss: 217.2274 - age_output_loss: 215.2376 - gender_output_loss: 0.5945 - race_output_loss: 1.3954 - age_output_mae: 11.0735 - gender_output_accuracy: 0.6720 - race_output_accuracy: 0.4371 - val_loss: 177.6299 - val_age_output_loss: 175.8400 - val_gender_output_loss: 0.5240 - val_race_output_loss: 1.2659 - val_age_output_mae: 10.5158 - val_gender_output_accuracy: 0.7677 - val_race_output_accuracy: 0.5063\n",
            "Epoch 3/50\n",
            "592/592 [==============================] - 38s 65ms/step - loss: 161.8586 - age_output_loss: 160.0394 - gender_output_loss: 0.5109 - race_output_loss: 1.3083 - age_output_mae: 9.4355 - gender_output_accuracy: 0.7087 - race_output_accuracy: 0.4851 - val_loss: 130.6291 - val_age_output_loss: 128.9658 - val_gender_output_loss: 0.4600 - val_race_output_loss: 1.2033 - val_age_output_mae: 8.5950 - val_gender_output_accuracy: 0.8074 - val_race_output_accuracy: 0.5469\n",
            "Epoch 4/50\n",
            "592/592 [==============================] - 35s 59ms/step - loss: 141.6168 - age_output_loss: 139.8844 - gender_output_loss: 0.4740 - race_output_loss: 1.2585 - age_output_mae: 8.7541 - gender_output_accuracy: 0.7295 - race_output_accuracy: 0.5002 - val_loss: 109.0698 - val_age_output_loss: 107.4784 - val_gender_output_loss: 0.4202 - val_race_output_loss: 1.1711 - val_age_output_mae: 7.5994 - val_gender_output_accuracy: 0.8102 - val_race_output_accuracy: 0.5532\n",
            "Epoch 5/50\n",
            "592/592 [==============================] - 34s 58ms/step - loss: 125.3270 - age_output_loss: 123.6528 - gender_output_loss: 0.4571 - race_output_loss: 1.2172 - age_output_mae: 8.1830 - gender_output_accuracy: 0.7340 - race_output_accuracy: 0.5144 - val_loss: 100.8895 - val_age_output_loss: 99.4048 - val_gender_output_loss: 0.3717 - val_race_output_loss: 1.1129 - val_age_output_mae: 7.2476 - val_gender_output_accuracy: 0.8435 - val_race_output_accuracy: 0.5538\n",
            "Epoch 6/50\n",
            "592/592 [==============================] - 34s 58ms/step - loss: 114.4544 - age_output_loss: 112.8064 - gender_output_loss: 0.4415 - race_output_loss: 1.2065 - age_output_mae: 7.8079 - gender_output_accuracy: 0.7438 - race_output_accuracy: 0.5167 - val_loss: 91.7902 - val_age_output_loss: 90.2918 - val_gender_output_loss: 0.3536 - val_race_output_loss: 1.1449 - val_age_output_mae: 6.9182 - val_gender_output_accuracy: 0.8509 - val_race_output_accuracy: 0.5598\n",
            "Epoch 7/50\n",
            "592/592 [==============================] - 33s 56ms/step - loss: 106.3582 - age_output_loss: 104.7450 - gender_output_loss: 0.4251 - race_output_loss: 1.1880 - age_output_mae: 7.5617 - gender_output_accuracy: 0.7515 - race_output_accuracy: 0.5171 - val_loss: 93.4899 - val_age_output_loss: 92.0412 - val_gender_output_loss: 0.3685 - val_race_output_loss: 1.0802 - val_age_output_mae: 7.1246 - val_gender_output_accuracy: 0.8311 - val_race_output_accuracy: 0.5602\n",
            "Epoch 8/50\n",
            "592/592 [==============================] - 42s 71ms/step - loss: 100.1990 - age_output_loss: 98.6093 - gender_output_loss: 0.4153 - race_output_loss: 1.1743 - age_output_mae: 7.3098 - gender_output_accuracy: 0.7596 - race_output_accuracy: 0.5215 - val_loss: 93.3068 - val_age_output_loss: 91.9363 - val_gender_output_loss: 0.3121 - val_race_output_loss: 1.0585 - val_age_output_mae: 7.2121 - val_gender_output_accuracy: 0.8653 - val_race_output_accuracy: 0.5718\n",
            "Epoch 9/50\n",
            "592/592 [==============================] - 28s 48ms/step - loss: 95.1173 - age_output_loss: 93.5468 - gender_output_loss: 0.4098 - race_output_loss: 1.1607 - age_output_mae: 7.1258 - gender_output_accuracy: 0.7615 - race_output_accuracy: 0.5225 - val_loss: 89.1976 - val_age_output_loss: 87.8166 - val_gender_output_loss: 0.3340 - val_race_output_loss: 1.0470 - val_age_output_mae: 6.8971 - val_gender_output_accuracy: 0.8526 - val_race_output_accuracy: 0.5633\n",
            "Epoch 10/50\n",
            "592/592 [==============================] - 38s 64ms/step - loss: 94.5051 - age_output_loss: 92.9397 - gender_output_loss: 0.4062 - race_output_loss: 1.1592 - age_output_mae: 7.1008 - gender_output_accuracy: 0.7634 - race_output_accuracy: 0.5217 - val_loss: 88.7432 - val_age_output_loss: 87.4050 - val_gender_output_loss: 0.3251 - val_race_output_loss: 1.0130 - val_age_output_mae: 6.9998 - val_gender_output_accuracy: 0.8528 - val_race_output_accuracy: 0.5714\n",
            "Epoch 11/50\n",
            "592/592 [==============================] - 38s 64ms/step - loss: 81.3490 - age_output_loss: 79.8015 - gender_output_loss: 0.3989 - race_output_loss: 1.1487 - age_output_mae: 6.6302 - gender_output_accuracy: 0.7654 - race_output_accuracy: 0.5251 - val_loss: 108.9713 - val_age_output_loss: 107.6657 - val_gender_output_loss: 0.3059 - val_race_output_loss: 0.9996 - val_age_output_mae: 7.8787 - val_gender_output_accuracy: 0.8617 - val_race_output_accuracy: 0.5703\n",
            "Epoch 12/50\n",
            "592/592 [==============================] - 26s 44ms/step - loss: 79.6629 - age_output_loss: 78.1271 - gender_output_loss: 0.3897 - race_output_loss: 1.1461 - age_output_mae: 6.5668 - gender_output_accuracy: 0.7719 - race_output_accuracy: 0.5246 - val_loss: 88.2598 - val_age_output_loss: 86.9415 - val_gender_output_loss: 0.3293 - val_race_output_loss: 0.9889 - val_age_output_mae: 6.8341 - val_gender_output_accuracy: 0.8374 - val_race_output_accuracy: 0.5720\n",
            "Epoch 13/50\n",
            "592/592 [==============================] - 31s 53ms/step - loss: 77.6266 - age_output_loss: 76.1026 - gender_output_loss: 0.3872 - race_output_loss: 1.1368 - age_output_mae: 6.4710 - gender_output_accuracy: 0.7759 - race_output_accuracy: 0.5257 - val_loss: 86.0318 - val_age_output_loss: 84.7376 - val_gender_output_loss: 0.2945 - val_race_output_loss: 0.9998 - val_age_output_mae: 6.7101 - val_gender_output_accuracy: 0.8701 - val_race_output_accuracy: 0.5726\n",
            "Epoch 14/50\n",
            "592/592 [==============================] - 34s 57ms/step - loss: 73.7210 - age_output_loss: 72.2020 - gender_output_loss: 0.3848 - race_output_loss: 1.1342 - age_output_mae: 6.3321 - gender_output_accuracy: 0.7777 - race_output_accuracy: 0.5270 - val_loss: 86.8919 - val_age_output_loss: 85.5858 - val_gender_output_loss: 0.3006 - val_race_output_loss: 1.0055 - val_age_output_mae: 6.7398 - val_gender_output_accuracy: 0.8678 - val_race_output_accuracy: 0.5722\n",
            "Epoch 15/50\n",
            "592/592 [==============================] - 30s 50ms/step - loss: 70.3903 - age_output_loss: 68.8868 - gender_output_loss: 0.3823 - race_output_loss: 1.1211 - age_output_mae: 6.1606 - gender_output_accuracy: 0.7780 - race_output_accuracy: 0.5271 - val_loss: 95.5339 - val_age_output_loss: 94.2484 - val_gender_output_loss: 0.3032 - val_race_output_loss: 0.9823 - val_age_output_mae: 7.1945 - val_gender_output_accuracy: 0.8598 - val_race_output_accuracy: 0.5731\n",
            "Epoch 16/50\n",
            "592/592 [==============================] - 31s 53ms/step - loss: 67.6539 - age_output_loss: 66.1636 - gender_output_loss: 0.3779 - race_output_loss: 1.1125 - age_output_mae: 6.0520 - gender_output_accuracy: 0.7732 - race_output_accuracy: 0.5307 - val_loss: 117.3868 - val_age_output_loss: 116.1254 - val_gender_output_loss: 0.2837 - val_race_output_loss: 0.9777 - val_age_output_mae: 8.1469 - val_gender_output_accuracy: 0.8689 - val_race_output_accuracy: 0.5718\n",
            "Epoch 17/50\n",
            "592/592 [==============================] - 28s 47ms/step - loss: 61.4279 - age_output_loss: 59.9426 - gender_output_loss: 0.3740 - race_output_loss: 1.1114 - age_output_mae: 5.7729 - gender_output_accuracy: 0.7799 - race_output_accuracy: 0.5300 - val_loss: 113.8308 - val_age_output_loss: 112.5730 - val_gender_output_loss: 0.2875 - val_race_output_loss: 0.9704 - val_age_output_mae: 8.0239 - val_gender_output_accuracy: 0.8689 - val_race_output_accuracy: 0.5756\n",
            "Epoch 18/50\n",
            "592/592 [==============================] - 31s 53ms/step - loss: 64.5097 - age_output_loss: 63.0214 - gender_output_loss: 0.3755 - race_output_loss: 1.1128 - age_output_mae: 5.8978 - gender_output_accuracy: 0.7792 - race_output_accuracy: 0.5292 - val_loss: 113.7253 - val_age_output_loss: 112.4551 - val_gender_output_loss: 0.2971 - val_race_output_loss: 0.9731 - val_age_output_mae: 7.9232 - val_gender_output_accuracy: 0.8663 - val_race_output_accuracy: 0.5821\n",
            "Epoch 19/50\n",
            "592/592 [==============================] - 28s 48ms/step - loss: 62.8793 - age_output_loss: 61.3993 - gender_output_loss: 0.3685 - race_output_loss: 1.1116 - age_output_mae: 5.8390 - gender_output_accuracy: 0.7810 - race_output_accuracy: 0.5297 - val_loss: 87.1971 - val_age_output_loss: 85.9152 - val_gender_output_loss: 0.3110 - val_race_output_loss: 0.9708 - val_age_output_mae: 6.6881 - val_gender_output_accuracy: 0.8486 - val_race_output_accuracy: 0.5739\n",
            "Epoch 20/50\n",
            "592/592 [==============================] - 31s 52ms/step - loss: 62.3061 - age_output_loss: 60.8333 - gender_output_loss: 0.3718 - race_output_loss: 1.1011 - age_output_mae: 5.7936 - gender_output_accuracy: 0.7823 - race_output_accuracy: 0.5323 - val_loss: 89.3559 - val_age_output_loss: 88.1161 - val_gender_output_loss: 0.2705 - val_race_output_loss: 0.9694 - val_age_output_mae: 6.7868 - val_gender_output_accuracy: 0.8807 - val_race_output_accuracy: 0.5747\n",
            "Epoch 21/50\n",
            "592/592 [==============================] - 35s 59ms/step - loss: 58.3215 - age_output_loss: 56.8568 - gender_output_loss: 0.3665 - race_output_loss: 1.0981 - age_output_mae: 5.6141 - gender_output_accuracy: 0.7802 - race_output_accuracy: 0.5347 - val_loss: 88.8924 - val_age_output_loss: 87.6520 - val_gender_output_loss: 0.2825 - val_race_output_loss: 0.9579 - val_age_output_mae: 6.8293 - val_gender_output_accuracy: 0.8691 - val_race_output_accuracy: 0.5817\n",
            "Epoch 22/50\n",
            "592/592 [==============================] - 28s 48ms/step - loss: 54.2360 - age_output_loss: 52.7939 - gender_output_loss: 0.3717 - race_output_loss: 1.0705 - age_output_mae: 5.4220 - gender_output_accuracy: 0.7788 - race_output_accuracy: 0.5487 - val_loss: 92.9532 - val_age_output_loss: 91.7516 - val_gender_output_loss: 0.2981 - val_race_output_loss: 0.9035 - val_age_output_mae: 7.1026 - val_gender_output_accuracy: 0.8585 - val_race_output_accuracy: 0.7086\n",
            "Epoch 23/50\n",
            "592/592 [==============================] - 32s 54ms/step - loss: 52.0421 - age_output_loss: 50.6614 - gender_output_loss: 0.3634 - race_output_loss: 1.0174 - age_output_mae: 5.2826 - gender_output_accuracy: 0.7826 - race_output_accuracy: 0.6052 - val_loss: 86.8046 - val_age_output_loss: 85.6611 - val_gender_output_loss: 0.2760 - val_race_output_loss: 0.8674 - val_age_output_mae: 6.7290 - val_gender_output_accuracy: 0.8756 - val_race_output_accuracy: 0.7318\n",
            "Epoch 24/50\n",
            "592/592 [==============================] - 31s 52ms/step - loss: 52.2510 - age_output_loss: 50.8954 - gender_output_loss: 0.3653 - race_output_loss: 0.9904 - age_output_mae: 5.3178 - gender_output_accuracy: 0.7811 - race_output_accuracy: 0.6207 - val_loss: 87.7372 - val_age_output_loss: 86.6116 - val_gender_output_loss: 0.2885 - val_race_output_loss: 0.8371 - val_age_output_mae: 6.7281 - val_gender_output_accuracy: 0.8680 - val_race_output_accuracy: 0.7346\n",
            "Epoch 25/50\n",
            "592/592 [==============================] - 28s 47ms/step - loss: 51.0074 - age_output_loss: 49.6570 - gender_output_loss: 0.3621 - race_output_loss: 0.9882 - age_output_mae: 5.2655 - gender_output_accuracy: 0.7807 - race_output_accuracy: 0.6218 - val_loss: 88.5575 - val_age_output_loss: 87.4334 - val_gender_output_loss: 0.2861 - val_race_output_loss: 0.8380 - val_age_output_mae: 6.8171 - val_gender_output_accuracy: 0.8659 - val_race_output_accuracy: 0.7321\n",
            "Epoch 26/50\n",
            "592/592 [==============================] - 31s 52ms/step - loss: 54.5560 - age_output_loss: 53.2061 - gender_output_loss: 0.3585 - race_output_loss: 0.9914 - age_output_mae: 5.4703 - gender_output_accuracy: 0.7846 - race_output_accuracy: 0.6194 - val_loss: 88.5297 - val_age_output_loss: 87.3996 - val_gender_output_loss: 0.2899 - val_race_output_loss: 0.8402 - val_age_output_mae: 6.7596 - val_gender_output_accuracy: 0.8727 - val_race_output_accuracy: 0.7371\n",
            "Epoch 27/50\n",
            "592/592 [==============================] - 31s 52ms/step - loss: 54.6365 - age_output_loss: 53.3048 - gender_output_loss: 0.3568 - race_output_loss: 0.9748 - age_output_mae: 5.4518 - gender_output_accuracy: 0.7874 - race_output_accuracy: 0.6268 - val_loss: 89.6933 - val_age_output_loss: 88.5696 - val_gender_output_loss: 0.2810 - val_race_output_loss: 0.8426 - val_age_output_mae: 6.8177 - val_gender_output_accuracy: 0.8777 - val_race_output_accuracy: 0.7348\n",
            "Epoch 28/50\n",
            "592/592 [==============================] - 28s 48ms/step - loss: 54.3200 - age_output_loss: 52.9875 - gender_output_loss: 0.3584 - race_output_loss: 0.9741 - age_output_mae: 5.4159 - gender_output_accuracy: 0.7839 - race_output_accuracy: 0.6292 - val_loss: 91.2892 - val_age_output_loss: 90.1528 - val_gender_output_loss: 0.2856 - val_race_output_loss: 0.8507 - val_age_output_mae: 6.9584 - val_gender_output_accuracy: 0.8739 - val_race_output_accuracy: 0.7287\n",
            "Epoch 29/50\n",
            "592/592 [==============================] - 30s 50ms/step - loss: 48.4363 - age_output_loss: 47.1167 - gender_output_loss: 0.3523 - race_output_loss: 0.9673 - age_output_mae: 5.1263 - gender_output_accuracy: 0.7849 - race_output_accuracy: 0.6305 - val_loss: 95.7633 - val_age_output_loss: 94.6412 - val_gender_output_loss: 0.2812 - val_race_output_loss: 0.8409 - val_age_output_mae: 6.8581 - val_gender_output_accuracy: 0.8737 - val_race_output_accuracy: 0.7287\n",
            "Epoch 30/50\n",
            "592/592 [==============================] - 41s 69ms/step - loss: 47.0993 - age_output_loss: 45.7820 - gender_output_loss: 0.3551 - race_output_loss: 0.9621 - age_output_mae: 5.0486 - gender_output_accuracy: 0.7856 - race_output_accuracy: 0.6334 - val_loss: 99.0963 - val_age_output_loss: 97.9672 - val_gender_output_loss: 0.2833 - val_race_output_loss: 0.8458 - val_age_output_mae: 7.0370 - val_gender_output_accuracy: 0.8756 - val_race_output_accuracy: 0.7306\n",
            "Epoch 31/50\n",
            "592/592 [==============================] - 29s 49ms/step - loss: 46.0079 - age_output_loss: 44.7153 - gender_output_loss: 0.3468 - race_output_loss: 0.9459 - age_output_mae: 4.9976 - gender_output_accuracy: 0.7887 - race_output_accuracy: 0.6427 - val_loss: 86.8010 - val_age_output_loss: 85.6854 - val_gender_output_loss: 0.2798 - val_race_output_loss: 0.8357 - val_age_output_mae: 6.7109 - val_gender_output_accuracy: 0.8756 - val_race_output_accuracy: 0.7405\n",
            "Epoch 32/50\n",
            "592/592 [==============================] - 27s 45ms/step - loss: 46.3775 - age_output_loss: 45.0765 - gender_output_loss: 0.3489 - race_output_loss: 0.9520 - age_output_mae: 5.0051 - gender_output_accuracy: 0.7857 - race_output_accuracy: 0.6374 - val_loss: 90.5434 - val_age_output_loss: 89.4192 - val_gender_output_loss: 0.2837 - val_race_output_loss: 0.8406 - val_age_output_mae: 6.8035 - val_gender_output_accuracy: 0.8775 - val_race_output_accuracy: 0.7388\n",
            "Epoch 33/50\n",
            "592/592 [==============================] - 42s 71ms/step - loss: 44.0559 - age_output_loss: 42.7676 - gender_output_loss: 0.3454 - race_output_loss: 0.9428 - age_output_mae: 4.8736 - gender_output_accuracy: 0.7896 - race_output_accuracy: 0.6387 - val_loss: 91.3151 - val_age_output_loss: 90.1594 - val_gender_output_loss: 0.2955 - val_race_output_loss: 0.8602 - val_age_output_mae: 6.9192 - val_gender_output_accuracy: 0.8712 - val_race_output_accuracy: 0.7228\n",
            "Epoch 34/50\n",
            "592/592 [==============================] - 25s 41ms/step - loss: 44.3260 - age_output_loss: 43.0247 - gender_output_loss: 0.3461 - race_output_loss: 0.9553 - age_output_mae: 4.8962 - gender_output_accuracy: 0.7910 - race_output_accuracy: 0.6302 - val_loss: 100.9808 - val_age_output_loss: 99.8311 - val_gender_output_loss: 0.2889 - val_race_output_loss: 0.8608 - val_age_output_mae: 7.4795 - val_gender_output_accuracy: 0.8742 - val_race_output_accuracy: 0.7280\n",
            "Epoch 35/50\n",
            "592/592 [==============================] - 32s 54ms/step - loss: 46.2175 - age_output_loss: 44.9539 - gender_output_loss: 0.3213 - race_output_loss: 0.9424 - age_output_mae: 5.0102 - gender_output_accuracy: 0.8010 - race_output_accuracy: 0.6381 - val_loss: 107.8316 - val_age_output_loss: 106.6770 - val_gender_output_loss: 0.2973 - val_race_output_loss: 0.8572 - val_age_output_mae: 7.8366 - val_gender_output_accuracy: 0.8691 - val_race_output_accuracy: 0.7266\n",
            "Epoch 36/50\n",
            "592/592 [==============================] - 28s 48ms/step - loss: 45.8278 - age_output_loss: 44.5768 - gender_output_loss: 0.3067 - race_output_loss: 0.9444 - age_output_mae: 4.9989 - gender_output_accuracy: 0.8406 - race_output_accuracy: 0.6387 - val_loss: 95.2108 - val_age_output_loss: 94.0472 - val_gender_output_loss: 0.3037 - val_race_output_loss: 0.8599 - val_age_output_mae: 7.1827 - val_gender_output_accuracy: 0.8668 - val_race_output_accuracy: 0.7283\n",
            "Epoch 37/50\n",
            "592/592 [==============================] - 33s 55ms/step - loss: 46.0456 - age_output_loss: 44.8044 - gender_output_loss: 0.3042 - race_output_loss: 0.9370 - age_output_mae: 5.0181 - gender_output_accuracy: 0.8375 - race_output_accuracy: 0.6351 - val_loss: 93.0892 - val_age_output_loss: 91.9303 - val_gender_output_loss: 0.2974 - val_race_output_loss: 0.8615 - val_age_output_mae: 7.1479 - val_gender_output_accuracy: 0.8672 - val_race_output_accuracy: 0.7323\n",
            "Epoch 38/50\n",
            "592/592 [==============================] - 29s 48ms/step - loss: 45.7464 - age_output_loss: 44.5091 - gender_output_loss: 0.3005 - race_output_loss: 0.9367 - age_output_mae: 4.9796 - gender_output_accuracy: 0.8434 - race_output_accuracy: 0.6394 - val_loss: 86.0143 - val_age_output_loss: 84.8455 - val_gender_output_loss: 0.3058 - val_race_output_loss: 0.8630 - val_age_output_mae: 6.7051 - val_gender_output_accuracy: 0.8577 - val_race_output_accuracy: 0.7149\n",
            "Epoch 39/50\n",
            "592/592 [==============================] - 33s 56ms/step - loss: 43.3269 - age_output_loss: 42.1019 - gender_output_loss: 0.2882 - race_output_loss: 0.9368 - age_output_mae: 4.8721 - gender_output_accuracy: 0.8511 - race_output_accuracy: 0.6367 - val_loss: 87.3895 - val_age_output_loss: 86.2150 - val_gender_output_loss: 0.3090 - val_race_output_loss: 0.8655 - val_age_output_mae: 6.8476 - val_gender_output_accuracy: 0.8663 - val_race_output_accuracy: 0.7242\n",
            "Epoch 40/50\n",
            "592/592 [==============================] - 32s 54ms/step - loss: 44.1614 - age_output_loss: 42.9423 - gender_output_loss: 0.2845 - race_output_loss: 0.9345 - age_output_mae: 4.9204 - gender_output_accuracy: 0.8491 - race_output_accuracy: 0.6359 - val_loss: 92.6186 - val_age_output_loss: 91.4126 - val_gender_output_loss: 0.3216 - val_race_output_loss: 0.8844 - val_age_output_mae: 6.9432 - val_gender_output_accuracy: 0.8568 - val_race_output_accuracy: 0.7141\n",
            "Epoch 41/50\n",
            "592/592 [==============================] - 27s 46ms/step - loss: 40.5778 - age_output_loss: 39.3636 - gender_output_loss: 0.2848 - race_output_loss: 0.9294 - age_output_mae: 4.7261 - gender_output_accuracy: 0.8528 - race_output_accuracy: 0.6406 - val_loss: 86.1531 - val_age_output_loss: 84.9740 - val_gender_output_loss: 0.3156 - val_race_output_loss: 0.8635 - val_age_output_mae: 6.7343 - val_gender_output_accuracy: 0.8668 - val_race_output_accuracy: 0.7253\n",
            "Epoch 42/50\n",
            "592/592 [==============================] - 41s 69ms/step - loss: 40.7183 - age_output_loss: 39.4997 - gender_output_loss: 0.2844 - race_output_loss: 0.9342 - age_output_mae: 4.7161 - gender_output_accuracy: 0.8510 - race_output_accuracy: 0.6375 - val_loss: 88.9111 - val_age_output_loss: 87.7411 - val_gender_output_loss: 0.3125 - val_race_output_loss: 0.8575 - val_age_output_mae: 6.8863 - val_gender_output_accuracy: 0.8710 - val_race_output_accuracy: 0.7354\n",
            "Epoch 43/50\n",
            "592/592 [==============================] - 38s 65ms/step - loss: 41.7464 - age_output_loss: 40.5368 - gender_output_loss: 0.2780 - race_output_loss: 0.9316 - age_output_mae: 4.8014 - gender_output_accuracy: 0.8562 - race_output_accuracy: 0.6410 - val_loss: 94.4129 - val_age_output_loss: 93.1865 - val_gender_output_loss: 0.3387 - val_race_output_loss: 0.8878 - val_age_output_mae: 7.2202 - val_gender_output_accuracy: 0.8636 - val_race_output_accuracy: 0.7105\n",
            "Epoch 44/50\n",
            "592/592 [==============================] - 38s 64ms/step - loss: 42.9176 - age_output_loss: 41.7130 - gender_output_loss: 0.2757 - race_output_loss: 0.9288 - age_output_mae: 4.8574 - gender_output_accuracy: 0.8560 - race_output_accuracy: 0.6388 - val_loss: 100.7174 - val_age_output_loss: 99.5278 - val_gender_output_loss: 0.3245 - val_race_output_loss: 0.8651 - val_age_output_mae: 7.5103 - val_gender_output_accuracy: 0.8666 - val_race_output_accuracy: 0.7249\n",
            "Epoch 45/50\n",
            "592/592 [==============================] - 29s 50ms/step - loss: 44.0174 - age_output_loss: 42.8133 - gender_output_loss: 0.2803 - race_output_loss: 0.9239 - age_output_mae: 4.9131 - gender_output_accuracy: 0.8537 - race_output_accuracy: 0.6404 - val_loss: 104.5868 - val_age_output_loss: 103.4015 - val_gender_output_loss: 0.3142 - val_race_output_loss: 0.8711 - val_age_output_mae: 7.7368 - val_gender_output_accuracy: 0.8661 - val_race_output_accuracy: 0.7299\n",
            "Epoch 46/50\n",
            "592/592 [==============================] - 31s 53ms/step - loss: 42.0048 - age_output_loss: 40.8035 - gender_output_loss: 0.2795 - race_output_loss: 0.9217 - age_output_mae: 4.8235 - gender_output_accuracy: 0.8549 - race_output_accuracy: 0.6426 - val_loss: 121.4181 - val_age_output_loss: 120.2084 - val_gender_output_loss: 0.3292 - val_race_output_loss: 0.8805 - val_age_output_mae: 8.3041 - val_gender_output_accuracy: 0.8630 - val_race_output_accuracy: 0.7226\n",
            "Epoch 47/50\n",
            "592/592 [==============================] - 29s 49ms/step - loss: 41.8753 - age_output_loss: 40.6665 - gender_output_loss: 0.2799 - race_output_loss: 0.9289 - age_output_mae: 4.8175 - gender_output_accuracy: 0.8535 - race_output_accuracy: 0.6366 - val_loss: 94.3149 - val_age_output_loss: 93.1330 - val_gender_output_loss: 0.3151 - val_race_output_loss: 0.8668 - val_age_output_mae: 7.2328 - val_gender_output_accuracy: 0.8628 - val_race_output_accuracy: 0.7213\n",
            "Epoch 48/50\n",
            "592/592 [==============================] - 42s 70ms/step - loss: 40.4123 - age_output_loss: 39.2185 - gender_output_loss: 0.2730 - race_output_loss: 0.9207 - age_output_mae: 4.7316 - gender_output_accuracy: 0.8591 - race_output_accuracy: 0.6423 - val_loss: 94.9149 - val_age_output_loss: 93.7178 - val_gender_output_loss: 0.3315 - val_race_output_loss: 0.8657 - val_age_output_mae: 7.2886 - val_gender_output_accuracy: 0.8672 - val_race_output_accuracy: 0.7369\n",
            "Epoch 49/50\n",
            "592/592 [==============================] - 29s 50ms/step - loss: 41.8603 - age_output_loss: 40.6619 - gender_output_loss: 0.2733 - race_output_loss: 0.9252 - age_output_mae: 4.8100 - gender_output_accuracy: 0.8594 - race_output_accuracy: 0.6429 - val_loss: 92.2863 - val_age_output_loss: 91.0335 - val_gender_output_loss: 0.3677 - val_race_output_loss: 0.8851 - val_age_output_mae: 7.0508 - val_gender_output_accuracy: 0.8630 - val_race_output_accuracy: 0.7185\n",
            "Epoch 50/50\n",
            "592/592 [==============================] - 27s 46ms/step - loss: 40.5377 - age_output_loss: 39.3793 - gender_output_loss: 0.2722 - race_output_loss: 0.8862 - age_output_mae: 4.7396 - gender_output_accuracy: 0.8594 - race_output_accuracy: 0.6802 - val_loss: 97.0403 - val_age_output_loss: 95.8356 - val_gender_output_loss: 0.3320 - val_race_output_loss: 0.8728 - val_age_output_mae: 7.3400 - val_gender_output_accuracy: 0.8676 - val_race_output_accuracy: 0.7128\n"
          ]
        }
      ],
      "source": [
        "# Define the model architecture\n",
        "input_layer = Input(shape=(128, 128, 3))\n",
        "conv_1 = Conv2D(32, kernel_size=(3, 3), activation='relu')(input_layer)\n",
        "max_1 = MaxPooling2D(pool_size=(2, 2))(conv_1)\n",
        "conv_2 = Conv2D(64, kernel_size=(3, 3), activation='relu')(max_1)\n",
        "max_2 = MaxPooling2D(pool_size=(2, 2))(conv_2)\n",
        "conv_3 = Conv2D(128, kernel_size=(3, 3), activation='relu')(max_2)\n",
        "max_3 = MaxPooling2D(pool_size=(2, 2))(conv_3)\n",
        "conv_4 = Conv2D(256, kernel_size=(3, 3), activation='relu')(max_3)\n",
        "max_4 = MaxPooling2D(pool_size=(2, 2))(conv_4)\n",
        "\n",
        "flatten = Flatten()(max_4)\n",
        "\n",
        "# Fully connected layers for age prediction, dropout is added to try to prevent overfitting\n",
        "dense_age = Dense(64, activation='relu')(flatten)\n",
        "dropout_age = Dropout(0.3)(dense_age)\n",
        "output_age = Dense(1, activation='linear', name='age_output')(dropout_age)\n",
        "\n",
        "# Fully connected layers for gender prediction, dropout is added to try to prevent overfitting\n",
        "dense_gender = Dense(64, activation='relu')(flatten)\n",
        "dropout_gender = Dropout(0.3)(dense_gender)\n",
        "output_gender = Dense(1, activation='sigmoid', name='gender_output')(dropout_gender)\n",
        "\n",
        "# Fully connected layers for race prediction, dropout is added to try to prevent overfitting\n",
        "dense_race = Dense(64, activation='relu')(flatten)\n",
        "dropout_race = Dropout(0.3)(dense_race)\n",
        "output_race = Dense(5, activation='softmax', name='race_output')(dropout_race)\n",
        "\n",
        "# Create the model\n",
        "model = Model(inputs=input_layer, outputs=[output_age, output_gender, output_race])\n",
        "\n",
        "# Compile the model\n",
        "model.compile(optimizer='adam', loss={'age_output': 'mean_squared_error',\n",
        "                                      'gender_output': 'binary_crossentropy',\n",
        "                                      'race_output': 'categorical_crossentropy'},\n",
        "              metrics={'age_output': 'mae',\n",
        "                       'gender_output': 'accuracy',\n",
        "                       'race_output': 'accuracy'})\n",
        "\n",
        "# Calculate steps per epoch and validation steps\n",
        "steps_per_epoch = len(train_files) // batch_size\n",
        "validation_steps = len(test_files) // batch_size\n",
        "\n",
        "# Train the model\n",
        "history = model.fit(train_generator,\n",
        "                    steps_per_epoch=steps_per_epoch,\n",
        "                    validation_data=test_generator,\n",
        "                    validation_steps=validation_steps,\n",
        "                    epochs=50)"
      ]
    },
    {
      "cell_type": "code",
      "execution_count": 20,
      "metadata": {
        "colab": {
          "base_uri": "https://localhost:8080/"
        },
        "id": "bOSjzZ0pMNuC",
        "outputId": "71a9f991-57be-4daf-c4cb-da40a9b0d9f1"
      },
      "outputs": [
        {
          "output_type": "stream",
          "name": "stdout",
          "text": [
            "148/148 [==============================] - 7s 49ms/step - loss: 97.0403 - age_output_loss: 95.8356 - gender_output_loss: 0.3320 - race_output_loss: 0.8728 - age_output_mae: 7.3400 - gender_output_accuracy: 0.8676 - race_output_accuracy: 0.7128\n",
            "Test Age MAE: 7.339992046356201\n",
            "Test Gender Accuracy: 0.8676097989082336\n",
            "Test Race Accuracy: 0.712837815284729\n"
          ]
        }
      ],
      "source": [
        "test_loss, test_age_loss, test_gender_loss, test_race_loss, test_age_mae, test_gender_accuracy, test_race_accuracy = model.evaluate(\n",
        "    test_generator, steps=validation_steps)\n",
        "\n",
        "print(f\"Test Age MAE: {test_age_mae}\")\n",
        "print(f\"Test Gender Accuracy: {test_gender_accuracy}\")\n",
        "print(f\"Test Race Accuracy: {test_race_accuracy}\")\n"
      ]
    },
    {
      "cell_type": "code",
      "source": [
        "model.save('demographic_predictor_model.h5')\n"
      ],
      "metadata": {
        "colab": {
          "base_uri": "https://localhost:8080/"
        },
        "id": "jzKyyPbXj0Pr",
        "outputId": "759fb955-9fec-4f0b-f755-ae67d0ed01a1"
      },
      "execution_count": 21,
      "outputs": [
        {
          "output_type": "stream",
          "name": "stderr",
          "text": [
            "/usr/local/lib/python3.10/dist-packages/keras/src/engine/training.py:3103: UserWarning: You are saving your model as an HDF5 file via `model.save()`. This file format is considered legacy. We recommend using instead the native Keras format, e.g. `model.save('my_model.keras')`.\n",
            "  saving_api.save_model(\n"
          ]
        }
      ]
    },
    {
      "cell_type": "code",
      "source": [
        "model.save('demographic_predictor_model.keras')\n"
      ],
      "metadata": {
        "id": "E5cCYH6krook"
      },
      "execution_count": 22,
      "outputs": []
    }
  ],
  "metadata": {
    "language_info": {
      "name": "python"
    },
    "colab": {
      "provenance": [],
      "gpuType": "T4",
      "include_colab_link": true
    },
    "kernelspec": {
      "name": "python3",
      "display_name": "Python 3"
    },
    "accelerator": "GPU"
  },
  "nbformat": 4,
  "nbformat_minor": 0
}